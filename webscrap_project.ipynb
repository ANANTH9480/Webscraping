{
 "cells": [
  {
   "cell_type": "markdown",
   "id": "5f8d5d97-1345-40e1-b371-def73b857134",
   "metadata": {},
   "source": [
    "### Problem Statement: Understanding Rental Market Trends for Better Decision Making\n",
    "We collected rental property data from a real estate website to analyze how different factors influence rental prices and availability. The goal is to help tenants, landlords, and investors make informed decisions by identifying trends in:\n",
    "- Rental pricing across different locations, property types, and BHKs\n",
    "- Tenant preferences (Bachelors vs. Family) and its effect on price\n",
    "- Which locations are expensive or affordable"
   ]
  },
  {
   "cell_type": "code",
   "execution_count": 1,
   "id": "70a60815-1b71-494c-8ee5-6edb9be54c2e",
   "metadata": {},
   "outputs": [],
   "source": [
    "import re\n",
    "import requests\n",
    "from bs4 import BeautifulSoup\n",
    "import numpy as np\n",
    "import pandas as pd\n",
    "import seaborn as sns\n",
    "import matplotlib.pyplot as plt"
   ]
  },
  {
   "cell_type": "code",
   "execution_count": 3,
   "id": "b8ef2414-fa5c-4a6e-a304-8c33a1c12649",
   "metadata": {},
   "outputs": [
    {
     "name": "stdout",
     "output_type": "stream",
     "text": [
      "Scraping: https://www.magicbricks.com/flats-for-rent-in-ahmedabad-pppfr\n",
      "Scraping: https://www.magicbricks.com/independent-house-for-rent-in-ahmedabad-pppfr\n",
      "Scraping: https://www.magicbricks.com/villa-for-rent-in-ahmedabad-pppfr\n",
      "Scraping: https://www.magicbricks.com/flats-for-rent-in-bangalore-pppfr\n",
      "Scraping: https://www.magicbricks.com/independent-house-for-rent-in-bangalore-pppfr\n",
      "Scraping: https://www.magicbricks.com/villa-for-rent-in-bangalore-pppfr\n",
      "Scraping: https://www.magicbricks.com/flats-for-rent-in-chennai-pppfr\n",
      "Scraping: https://www.magicbricks.com/independent-house-for-rent-in-chennai-pppfr\n",
      "Scraping: https://www.magicbricks.com/villa-for-rent-in-chennai-pppfr\n",
      "Scraping: https://www.magicbricks.com/flats-for-rent-in-gurgaon-pppfr\n",
      "Scraping: https://www.magicbricks.com/independent-house-for-rent-in-gurgaon-pppfr\n",
      "Scraping: https://www.magicbricks.com/villa-for-rent-in-gurgaon-pppfr\n",
      "Scraping: https://www.magicbricks.com/flats-for-rent-in-hyderabad-pppfr\n",
      "Scraping: https://www.magicbricks.com/independent-house-for-rent-in-hyderabad-pppfr\n",
      "Scraping: https://www.magicbricks.com/villa-for-rent-in-hyderabad-pppfr\n",
      "Scraping: https://www.magicbricks.com/flats-for-rent-in-indore-pppfr\n",
      "Scraping: https://www.magicbricks.com/independent-house-for-rent-in-indore-pppfr\n",
      "Scraping: https://www.magicbricks.com/villa-for-rent-in-indore-pppfr\n",
      "Scraping: https://www.magicbricks.com/flats-for-rent-in-jaipur-pppfr\n",
      "Scraping: https://www.magicbricks.com/independent-house-for-rent-in-jaipur-pppfr\n",
      "Scraping: https://www.magicbricks.com/villa-for-rent-in-jaipur-pppfr\n",
      "Scraping: https://www.magicbricks.com/flats-for-rent-in-kolkata-pppfr\n",
      "Scraping: https://www.magicbricks.com/independent-house-for-rent-in-kolkata-pppfr\n",
      "Scraping: https://www.magicbricks.com/villa-for-rent-in-kolkata-pppfr\n",
      "Scraping: https://www.magicbricks.com/flats-for-rent-in-lucknow-pppfr\n",
      "Scraping: https://www.magicbricks.com/independent-house-for-rent-in-lucknow-pppfr\n",
      "Scraping: https://www.magicbricks.com/villa-for-rent-in-lucknow-pppfr\n",
      "Scraping: https://www.magicbricks.com/flats-for-rent-in-mumbai-pppfr\n",
      "Scraping: https://www.magicbricks.com/independent-house-for-rent-in-mumbai-pppfr\n",
      "Scraping: https://www.magicbricks.com/villa-for-rent-in-mumbai-pppfr\n",
      "Scraping: https://www.magicbricks.com/flats-for-rent-in-navi-mumbai-pppfr\n",
      "Scraping: https://www.magicbricks.com/independent-house-for-rent-in-navi-mumbai-pppfr\n",
      "Scraping: https://www.magicbricks.com/villa-for-rent-in-navi-mumbai-pppfr\n",
      "Scraping: https://www.magicbricks.com/flats-for-rent-in-new-delhi-pppfr\n",
      "Scraping: https://www.magicbricks.com/independent-house-for-rent-in-new-delhi-pppfr\n",
      "Scraping: https://www.magicbricks.com/villa-for-rent-in-new-delhi-pppfr\n",
      "Scraping: https://www.magicbricks.com/flats-for-rent-in-noida-pppfr\n",
      "Scraping: https://www.magicbricks.com/independent-house-for-rent-in-noida-pppfr\n",
      "Scraping: https://www.magicbricks.com/villa-for-rent-in-noida-pppfr\n",
      "Scraping: https://www.magicbricks.com/flats-for-rent-in-pune-pppfr\n",
      "Scraping: https://www.magicbricks.com/independent-house-for-rent-in-pune-pppfr\n",
      "Scraping: https://www.magicbricks.com/villa-for-rent-in-pune-pppfr\n",
      "Scraping: https://www.magicbricks.com/flats-for-rent-in-thane-pppfr\n",
      "Scraping: https://www.magicbricks.com/independent-house-for-rent-in-thane-pppfr\n",
      "Scraping: https://www.magicbricks.com/villa-for-rent-in-thane-pppfr\n",
      "Data Scraping Completed & Saved to 'magicbricks_rent_data_final.xlsx'!\n"
     ]
    }
   ],
   "source": [
    "\n",
    "\n",
    "# Headers to mimic a real browser request\n",
    "headers = {\n",
    "    'User-Agent': 'Mozilla/5.0 (Windows NT 10.0; Win64; x64) AppleWebKit/537.36 (KHTML, like Gecko) Chrome/101.0.4951.64 Safari/537.36'\n",
    "}\n",
    "\n",
    "# List of cities & property types\n",
    "cities = [\n",
    "    \"ahmedabad\", \"bangalore\", \"chennai\", \"gurgaon\", \"hyderabad\",\n",
    "    \"indore\", \"jaipur\", \"kolkata\", \"lucknow\", \"mumbai\", \"navi-mumbai\",\n",
    "    \"new-delhi\", \"noida\", \"pune\", \"thane\"\n",
    "]\n",
    "property_types = [\"flats\", \"independent-house\", \"villa\"]\n",
    "\n",
    "# Data storage dictionary\n",
    "data = {\n",
    "    \"Property Type\": [], \"Location\": [], \"BHK\": [], \"Society Name\": [], \"Furnishing\": [],\n",
    "    \"Bathrooms\": [], \"Balconies\": [], \"Facing Direction\": [], \"Carpet Area\": [],\n",
    "    \"Floor Details\": [], \"Rental Price\": [], \"Tenant Preferred\": []\n",
    "}\n",
    "\n",
    "# Scraping loop\n",
    "for city in cities:\n",
    "    for prop in property_types:\n",
    "        #using the url of the website\n",
    "        url = f\"https://www.magicbricks.com/{prop}-for-rent-in-{city}-pppfr\"\n",
    "        print(f\"Scraping: {url}\")\n",
    "\n",
    "        #requesting to access the url to get data\n",
    "        page = requests.get(url, headers=headers)\n",
    "\n",
    "        #if the status code is 200 then succesfully retrieve the data\n",
    "        if page.status_code != 200:\n",
    "            print(f\"Failed to retrieve data for {url}\")\n",
    "            continue\n",
    "        #geeting the data in html format\n",
    "        soup = BeautifulSoup(page.text, 'html.parser')\n",
    "\n",
    "        #using attribsute and class we can scrap the data from the page\n",
    "        for listing in soup.find_all(\"div\", class_=\"mb-srp__list\"):\n",
    "            text = listing.text.strip()\n",
    "\n",
    "            # Property Type & Location\n",
    "            data[\"Property Type\"].append(prop)\n",
    "            data[\"Location\"].append(city)\n",
    "\n",
    "            # BHK Extraction\n",
    "            bhk_match = re.search(r\"(\\d+)\\sBHK\", text)\n",
    "            data[\"BHK\"].append(bhk_match.group(1) if bhk_match else np.nan)\n",
    "\n",
    "            # Society Name\n",
    "            society_match = re.search(r\"Society\\s([A-Za-z\\s]+)\", text)\n",
    "            data[\"Society Name\"].append(society_match.group(1).strip() if society_match else np.nan)\n",
    "\n",
    "            # Furnishing Type\n",
    "            furnishing_match = re.search(r\"Furnishing\\s?(Furnished|Semi-Furnished|Unfurnished)\", text)\n",
    "            data[\"Furnishing\"].append(furnishing_match.group(1) if furnishing_match else np.nan)\n",
    "\n",
    "            # Bathrooms\n",
    "            bath_match = re.search(r\"Bathroom\\s?(\\d+)\", text)\n",
    "            data[\"Bathrooms\"].append(bath_match.group(1) if bath_match else np.nan)\n",
    "\n",
    "            # Balconies\n",
    "            balcony_match = re.search(r\"Balcony\\s?(\\d+)\", text)\n",
    "            data[\"Balconies\"].append(balcony_match.group(1) if balcony_match else np.nan)\n",
    "\n",
    "            # Facing Direction\n",
    "            direction_match = re.search(r\"facing\\s([A-Za-z-]+)\", text, re.IGNORECASE)\n",
    "            data[\"Facing Direction\"].append(direction_match.group(1) if direction_match else np.nan)\n",
    "\n",
    "            # Carpet Area\n",
    "            area_match = re.search(r\"Area\\s?(\\d+)\\s?(sqft|sq-ft)\", text, re.IGNORECASE)\n",
    "            data[\"Carpet Area\"].append(area_match.group(1) if area_match else np.nan)\n",
    "\n",
    "            # Floor Details (Extracting \"10 out of 12\" format)\n",
    "            floor_match = re.search(r\"Floor\\s?(\\d+)\\s?out\\s?of\\s?(\\d+)\", text, re.IGNORECASE)\n",
    "            data[\"Floor Details\"].append(f\"{floor_match.group(1)}\" if floor_match else np.nan)\n",
    "\n",
    "            # Rental Price\n",
    "            rent_match = re.search(r\"₹([\\d,]+)\", text)\n",
    "            data[\"Rental Price\"].append(rent_match.group(1) if rent_match else np.nan)\n",
    "\n",
    "            # Tenant Preferred (Bachelors/Family)\n",
    "            tenant_match = re.search(r\"Tenant Preferred\\s?(Bachelors|Family|Bachelors/Family)\", text)\n",
    "            data[\"Tenant Preferred\"].append(tenant_match.group(1) if tenant_match else np.nan)\n",
    "\n",
    "# Convert dictionary to DataFrame\n",
    "df = pd.DataFrame(data)\n",
    "\n",
    "# Save to CSV\n",
    "df.to_excel(\"magicbricks_rent_data_final.xlsx\", index=False)\n",
    "\n",
    "print(\"Data Scraping Completed & Saved to 'magicbricks_rent_data_final.xlsx'!\")\n"
   ]
  },
  {
   "cell_type": "code",
   "execution_count": 11,
   "id": "3f8d9eb5-3577-4656-a071-1fb7afaf00a6",
   "metadata": {},
   "outputs": [
    {
     "data": {
      "text/html": [
       "<div>\n",
       "<style scoped>\n",
       "    .dataframe tbody tr th:only-of-type {\n",
       "        vertical-align: middle;\n",
       "    }\n",
       "\n",
       "    .dataframe tbody tr th {\n",
       "        vertical-align: top;\n",
       "    }\n",
       "\n",
       "    .dataframe thead th {\n",
       "        text-align: right;\n",
       "    }\n",
       "</style>\n",
       "<table border=\"1\" class=\"dataframe\">\n",
       "  <thead>\n",
       "    <tr style=\"text-align: right;\">\n",
       "      <th></th>\n",
       "      <th>Property Type</th>\n",
       "      <th>Location</th>\n",
       "      <th>BHK</th>\n",
       "      <th>Society Name</th>\n",
       "      <th>Furnishing</th>\n",
       "      <th>Bathrooms</th>\n",
       "      <th>Balconies</th>\n",
       "      <th>Facing Direction</th>\n",
       "      <th>Carpet Area</th>\n",
       "      <th>Floor Details</th>\n",
       "      <th>Rental Price</th>\n",
       "      <th>Tenant Preferred</th>\n",
       "    </tr>\n",
       "  </thead>\n",
       "  <tbody>\n",
       "    <tr>\n",
       "      <th>0</th>\n",
       "      <td>flats</td>\n",
       "      <td>ahmedabad</td>\n",
       "      <td>3.0</td>\n",
       "      <td>NaN</td>\n",
       "      <td>Unfurnished</td>\n",
       "      <td>3.0</td>\n",
       "      <td>3.0</td>\n",
       "      <td>PropertyThis</td>\n",
       "      <td>1000.0</td>\n",
       "      <td>9.0</td>\n",
       "      <td>16,000</td>\n",
       "      <td>Bachelors</td>\n",
       "    </tr>\n",
       "    <tr>\n",
       "      <th>1</th>\n",
       "      <td>flats</td>\n",
       "      <td>ahmedabad</td>\n",
       "      <td>3.0</td>\n",
       "      <td>Name</td>\n",
       "      <td>Unfurnished</td>\n",
       "      <td>3.0</td>\n",
       "      <td>1.0</td>\n",
       "      <td>NaN</td>\n",
       "      <td>1004.0</td>\n",
       "      <td>NaN</td>\n",
       "      <td>27,500</td>\n",
       "      <td>Bachelors</td>\n",
       "    </tr>\n",
       "    <tr>\n",
       "      <th>2</th>\n",
       "      <td>flats</td>\n",
       "      <td>ahmedabad</td>\n",
       "      <td>2.0</td>\n",
       "      <td>NaN</td>\n",
       "      <td>Semi-Furnished</td>\n",
       "      <td>2.0</td>\n",
       "      <td>1.0</td>\n",
       "      <td>PropertyYou</td>\n",
       "      <td>NaN</td>\n",
       "      <td>9.0</td>\n",
       "      <td>17,000</td>\n",
       "      <td>Bachelors</td>\n",
       "    </tr>\n",
       "    <tr>\n",
       "      <th>3</th>\n",
       "      <td>flats</td>\n",
       "      <td>ahmedabad</td>\n",
       "      <td>3.0</td>\n",
       "      <td>NaN</td>\n",
       "      <td>Semi-Furnished</td>\n",
       "      <td>3.0</td>\n",
       "      <td>1.0</td>\n",
       "      <td>PropertyIf</td>\n",
       "      <td>1500.0</td>\n",
       "      <td>4.0</td>\n",
       "      <td>35,000</td>\n",
       "      <td>Bachelors</td>\n",
       "    </tr>\n",
       "    <tr>\n",
       "      <th>4</th>\n",
       "      <td>flats</td>\n",
       "      <td>ahmedabad</td>\n",
       "      <td>2.0</td>\n",
       "      <td>NaN</td>\n",
       "      <td>Furnished</td>\n",
       "      <td>2.0</td>\n",
       "      <td>1.0</td>\n",
       "      <td>NaN</td>\n",
       "      <td>1200.0</td>\n",
       "      <td>6.0</td>\n",
       "      <td>15,000</td>\n",
       "      <td>Bachelors</td>\n",
       "    </tr>\n",
       "    <tr>\n",
       "      <th>...</th>\n",
       "      <td>...</td>\n",
       "      <td>...</td>\n",
       "      <td>...</td>\n",
       "      <td>...</td>\n",
       "      <td>...</td>\n",
       "      <td>...</td>\n",
       "      <td>...</td>\n",
       "      <td>...</td>\n",
       "      <td>...</td>\n",
       "      <td>...</td>\n",
       "      <td>...</td>\n",
       "      <td>...</td>\n",
       "    </tr>\n",
       "    <tr>\n",
       "      <th>1336</th>\n",
       "      <td>villa</td>\n",
       "      <td>thane</td>\n",
       "      <td>1.0</td>\n",
       "      <td>Name</td>\n",
       "      <td>Furnished</td>\n",
       "      <td>1.0</td>\n",
       "      <td>NaN</td>\n",
       "      <td>NaN</td>\n",
       "      <td>560.0</td>\n",
       "      <td>4.0</td>\n",
       "      <td>22,000</td>\n",
       "      <td>NaN</td>\n",
       "    </tr>\n",
       "    <tr>\n",
       "      <th>1337</th>\n",
       "      <td>villa</td>\n",
       "      <td>thane</td>\n",
       "      <td>1.0</td>\n",
       "      <td>NaN</td>\n",
       "      <td>Semi-Furnished</td>\n",
       "      <td>1.0</td>\n",
       "      <td>1.0</td>\n",
       "      <td>NaN</td>\n",
       "      <td>485.0</td>\n",
       "      <td>NaN</td>\n",
       "      <td>13,800</td>\n",
       "      <td>NaN</td>\n",
       "    </tr>\n",
       "    <tr>\n",
       "      <th>1338</th>\n",
       "      <td>villa</td>\n",
       "      <td>thane</td>\n",
       "      <td>3.0</td>\n",
       "      <td>NaN</td>\n",
       "      <td>Furnished</td>\n",
       "      <td>3.0</td>\n",
       "      <td>3.0</td>\n",
       "      <td>PropertySuperbly</td>\n",
       "      <td>980.0</td>\n",
       "      <td>17.0</td>\n",
       "      <td>55,000</td>\n",
       "      <td>NaN</td>\n",
       "    </tr>\n",
       "    <tr>\n",
       "      <th>1339</th>\n",
       "      <td>villa</td>\n",
       "      <td>thane</td>\n",
       "      <td>2.0</td>\n",
       "      <td>Name</td>\n",
       "      <td>Furnished</td>\n",
       "      <td>2.0</td>\n",
       "      <td>1.0</td>\n",
       "      <td>NaN</td>\n",
       "      <td>654.0</td>\n",
       "      <td>1.0</td>\n",
       "      <td>37,000</td>\n",
       "      <td>NaN</td>\n",
       "    </tr>\n",
       "    <tr>\n",
       "      <th>1340</th>\n",
       "      <td>villa</td>\n",
       "      <td>thane</td>\n",
       "      <td>1.0</td>\n",
       "      <td>NaN</td>\n",
       "      <td>Furnished</td>\n",
       "      <td>2.0</td>\n",
       "      <td>NaN</td>\n",
       "      <td>Propertyprime</td>\n",
       "      <td>580.0</td>\n",
       "      <td>NaN</td>\n",
       "      <td>30,000</td>\n",
       "      <td>NaN</td>\n",
       "    </tr>\n",
       "  </tbody>\n",
       "</table>\n",
       "<p>1341 rows × 12 columns</p>\n",
       "</div>"
      ],
      "text/plain": [
       "     Property Type   Location  BHK Society Name      Furnishing  Bathrooms  \\\n",
       "0            flats  ahmedabad  3.0          NaN     Unfurnished        3.0   \n",
       "1            flats  ahmedabad  3.0         Name     Unfurnished        3.0   \n",
       "2            flats  ahmedabad  2.0          NaN  Semi-Furnished        2.0   \n",
       "3            flats  ahmedabad  3.0          NaN  Semi-Furnished        3.0   \n",
       "4            flats  ahmedabad  2.0          NaN       Furnished        2.0   \n",
       "...            ...        ...  ...          ...             ...        ...   \n",
       "1336         villa      thane  1.0         Name       Furnished        1.0   \n",
       "1337         villa      thane  1.0          NaN  Semi-Furnished        1.0   \n",
       "1338         villa      thane  3.0          NaN       Furnished        3.0   \n",
       "1339         villa      thane  2.0         Name       Furnished        2.0   \n",
       "1340         villa      thane  1.0          NaN       Furnished        2.0   \n",
       "\n",
       "      Balconies  Facing Direction  Carpet Area  Floor Details Rental Price  \\\n",
       "0           3.0      PropertyThis       1000.0            9.0       16,000   \n",
       "1           1.0               NaN       1004.0            NaN       27,500   \n",
       "2           1.0       PropertyYou          NaN            9.0       17,000   \n",
       "3           1.0        PropertyIf       1500.0            4.0       35,000   \n",
       "4           1.0               NaN       1200.0            6.0       15,000   \n",
       "...         ...               ...          ...            ...          ...   \n",
       "1336        NaN               NaN        560.0            4.0       22,000   \n",
       "1337        1.0               NaN        485.0            NaN       13,800   \n",
       "1338        3.0  PropertySuperbly        980.0           17.0       55,000   \n",
       "1339        1.0               NaN        654.0            1.0       37,000   \n",
       "1340        NaN     Propertyprime        580.0            NaN       30,000   \n",
       "\n",
       "     Tenant Preferred  \n",
       "0           Bachelors  \n",
       "1           Bachelors  \n",
       "2           Bachelors  \n",
       "3           Bachelors  \n",
       "4           Bachelors  \n",
       "...               ...  \n",
       "1336              NaN  \n",
       "1337              NaN  \n",
       "1338              NaN  \n",
       "1339              NaN  \n",
       "1340              NaN  \n",
       "\n",
       "[1341 rows x 12 columns]"
      ]
     },
     "execution_count": 11,
     "metadata": {},
     "output_type": "execute_result"
    }
   ],
   "source": [
    "# Reading the csv file for better understanding\n",
    "\n",
    "df = pd.read_csv(r\"C:\\Users\\DELL\\Documents\\magic bricks\\magicbricks_rent_data_final.csv\")\n",
    "df"
   ]
  },
  {
   "cell_type": "code",
   "execution_count": 13,
   "id": "4c48a747-6dab-4a2f-b9ac-ef37e57010c7",
   "metadata": {},
   "outputs": [
    {
     "data": {
      "text/html": [
       "<div>\n",
       "<style scoped>\n",
       "    .dataframe tbody tr th:only-of-type {\n",
       "        vertical-align: middle;\n",
       "    }\n",
       "\n",
       "    .dataframe tbody tr th {\n",
       "        vertical-align: top;\n",
       "    }\n",
       "\n",
       "    .dataframe thead th {\n",
       "        text-align: right;\n",
       "    }\n",
       "</style>\n",
       "<table border=\"1\" class=\"dataframe\">\n",
       "  <thead>\n",
       "    <tr style=\"text-align: right;\">\n",
       "      <th></th>\n",
       "      <th>Property Type</th>\n",
       "      <th>Location</th>\n",
       "      <th>BHK</th>\n",
       "      <th>Society Name</th>\n",
       "      <th>Furnishing</th>\n",
       "      <th>Bathrooms</th>\n",
       "      <th>Balconies</th>\n",
       "      <th>Facing Direction</th>\n",
       "      <th>Carpet Area</th>\n",
       "      <th>Floor Details</th>\n",
       "      <th>Rental Price</th>\n",
       "      <th>Tenant Preferred</th>\n",
       "    </tr>\n",
       "  </thead>\n",
       "  <tbody>\n",
       "    <tr>\n",
       "      <th>0</th>\n",
       "      <td>flats</td>\n",
       "      <td>ahmedabad</td>\n",
       "      <td>3.0</td>\n",
       "      <td>NaN</td>\n",
       "      <td>Unfurnished</td>\n",
       "      <td>3.0</td>\n",
       "      <td>3.0</td>\n",
       "      <td>PropertyThis</td>\n",
       "      <td>1000.0</td>\n",
       "      <td>9.0</td>\n",
       "      <td>16,000</td>\n",
       "      <td>Bachelors</td>\n",
       "    </tr>\n",
       "    <tr>\n",
       "      <th>1</th>\n",
       "      <td>flats</td>\n",
       "      <td>ahmedabad</td>\n",
       "      <td>3.0</td>\n",
       "      <td>Name</td>\n",
       "      <td>Unfurnished</td>\n",
       "      <td>3.0</td>\n",
       "      <td>1.0</td>\n",
       "      <td>NaN</td>\n",
       "      <td>1004.0</td>\n",
       "      <td>NaN</td>\n",
       "      <td>27,500</td>\n",
       "      <td>Bachelors</td>\n",
       "    </tr>\n",
       "    <tr>\n",
       "      <th>2</th>\n",
       "      <td>flats</td>\n",
       "      <td>ahmedabad</td>\n",
       "      <td>2.0</td>\n",
       "      <td>NaN</td>\n",
       "      <td>Semi-Furnished</td>\n",
       "      <td>2.0</td>\n",
       "      <td>1.0</td>\n",
       "      <td>PropertyYou</td>\n",
       "      <td>NaN</td>\n",
       "      <td>9.0</td>\n",
       "      <td>17,000</td>\n",
       "      <td>Bachelors</td>\n",
       "    </tr>\n",
       "    <tr>\n",
       "      <th>3</th>\n",
       "      <td>flats</td>\n",
       "      <td>ahmedabad</td>\n",
       "      <td>3.0</td>\n",
       "      <td>NaN</td>\n",
       "      <td>Semi-Furnished</td>\n",
       "      <td>3.0</td>\n",
       "      <td>1.0</td>\n",
       "      <td>PropertyIf</td>\n",
       "      <td>1500.0</td>\n",
       "      <td>4.0</td>\n",
       "      <td>35,000</td>\n",
       "      <td>Bachelors</td>\n",
       "    </tr>\n",
       "    <tr>\n",
       "      <th>4</th>\n",
       "      <td>flats</td>\n",
       "      <td>ahmedabad</td>\n",
       "      <td>2.0</td>\n",
       "      <td>NaN</td>\n",
       "      <td>Furnished</td>\n",
       "      <td>2.0</td>\n",
       "      <td>1.0</td>\n",
       "      <td>NaN</td>\n",
       "      <td>1200.0</td>\n",
       "      <td>6.0</td>\n",
       "      <td>15,000</td>\n",
       "      <td>Bachelors</td>\n",
       "    </tr>\n",
       "  </tbody>\n",
       "</table>\n",
       "</div>"
      ],
      "text/plain": [
       "  Property Type   Location  BHK Society Name      Furnishing  Bathrooms  \\\n",
       "0         flats  ahmedabad  3.0          NaN     Unfurnished        3.0   \n",
       "1         flats  ahmedabad  3.0         Name     Unfurnished        3.0   \n",
       "2         flats  ahmedabad  2.0          NaN  Semi-Furnished        2.0   \n",
       "3         flats  ahmedabad  3.0          NaN  Semi-Furnished        3.0   \n",
       "4         flats  ahmedabad  2.0          NaN       Furnished        2.0   \n",
       "\n",
       "   Balconies Facing Direction  Carpet Area  Floor Details Rental Price  \\\n",
       "0        3.0     PropertyThis       1000.0            9.0       16,000   \n",
       "1        1.0              NaN       1004.0            NaN       27,500   \n",
       "2        1.0      PropertyYou          NaN            9.0       17,000   \n",
       "3        1.0       PropertyIf       1500.0            4.0       35,000   \n",
       "4        1.0              NaN       1200.0            6.0       15,000   \n",
       "\n",
       "  Tenant Preferred  \n",
       "0        Bachelors  \n",
       "1        Bachelors  \n",
       "2        Bachelors  \n",
       "3        Bachelors  \n",
       "4        Bachelors  "
      ]
     },
     "execution_count": 13,
     "metadata": {},
     "output_type": "execute_result"
    }
   ],
   "source": [
    "#first 5 rows \n",
    "df.head(5)"
   ]
  },
  {
   "cell_type": "code",
   "execution_count": 15,
   "id": "1f09f2c6-2d7d-4179-87c7-6ce4d3ee9b3f",
   "metadata": {},
   "outputs": [
    {
     "data": {
      "text/html": [
       "<div>\n",
       "<style scoped>\n",
       "    .dataframe tbody tr th:only-of-type {\n",
       "        vertical-align: middle;\n",
       "    }\n",
       "\n",
       "    .dataframe tbody tr th {\n",
       "        vertical-align: top;\n",
       "    }\n",
       "\n",
       "    .dataframe thead th {\n",
       "        text-align: right;\n",
       "    }\n",
       "</style>\n",
       "<table border=\"1\" class=\"dataframe\">\n",
       "  <thead>\n",
       "    <tr style=\"text-align: right;\">\n",
       "      <th></th>\n",
       "      <th>Property Type</th>\n",
       "      <th>Location</th>\n",
       "      <th>BHK</th>\n",
       "      <th>Society Name</th>\n",
       "      <th>Furnishing</th>\n",
       "      <th>Bathrooms</th>\n",
       "      <th>Balconies</th>\n",
       "      <th>Facing Direction</th>\n",
       "      <th>Carpet Area</th>\n",
       "      <th>Floor Details</th>\n",
       "      <th>Rental Price</th>\n",
       "      <th>Tenant Preferred</th>\n",
       "    </tr>\n",
       "  </thead>\n",
       "  <tbody>\n",
       "    <tr>\n",
       "      <th>1336</th>\n",
       "      <td>villa</td>\n",
       "      <td>thane</td>\n",
       "      <td>1.0</td>\n",
       "      <td>Name</td>\n",
       "      <td>Furnished</td>\n",
       "      <td>1.0</td>\n",
       "      <td>NaN</td>\n",
       "      <td>NaN</td>\n",
       "      <td>560.0</td>\n",
       "      <td>4.0</td>\n",
       "      <td>22,000</td>\n",
       "      <td>NaN</td>\n",
       "    </tr>\n",
       "    <tr>\n",
       "      <th>1337</th>\n",
       "      <td>villa</td>\n",
       "      <td>thane</td>\n",
       "      <td>1.0</td>\n",
       "      <td>NaN</td>\n",
       "      <td>Semi-Furnished</td>\n",
       "      <td>1.0</td>\n",
       "      <td>1.0</td>\n",
       "      <td>NaN</td>\n",
       "      <td>485.0</td>\n",
       "      <td>NaN</td>\n",
       "      <td>13,800</td>\n",
       "      <td>NaN</td>\n",
       "    </tr>\n",
       "    <tr>\n",
       "      <th>1338</th>\n",
       "      <td>villa</td>\n",
       "      <td>thane</td>\n",
       "      <td>3.0</td>\n",
       "      <td>NaN</td>\n",
       "      <td>Furnished</td>\n",
       "      <td>3.0</td>\n",
       "      <td>3.0</td>\n",
       "      <td>PropertySuperbly</td>\n",
       "      <td>980.0</td>\n",
       "      <td>17.0</td>\n",
       "      <td>55,000</td>\n",
       "      <td>NaN</td>\n",
       "    </tr>\n",
       "    <tr>\n",
       "      <th>1339</th>\n",
       "      <td>villa</td>\n",
       "      <td>thane</td>\n",
       "      <td>2.0</td>\n",
       "      <td>Name</td>\n",
       "      <td>Furnished</td>\n",
       "      <td>2.0</td>\n",
       "      <td>1.0</td>\n",
       "      <td>NaN</td>\n",
       "      <td>654.0</td>\n",
       "      <td>1.0</td>\n",
       "      <td>37,000</td>\n",
       "      <td>NaN</td>\n",
       "    </tr>\n",
       "    <tr>\n",
       "      <th>1340</th>\n",
       "      <td>villa</td>\n",
       "      <td>thane</td>\n",
       "      <td>1.0</td>\n",
       "      <td>NaN</td>\n",
       "      <td>Furnished</td>\n",
       "      <td>2.0</td>\n",
       "      <td>NaN</td>\n",
       "      <td>Propertyprime</td>\n",
       "      <td>580.0</td>\n",
       "      <td>NaN</td>\n",
       "      <td>30,000</td>\n",
       "      <td>NaN</td>\n",
       "    </tr>\n",
       "  </tbody>\n",
       "</table>\n",
       "</div>"
      ],
      "text/plain": [
       "     Property Type Location  BHK Society Name      Furnishing  Bathrooms  \\\n",
       "1336         villa    thane  1.0         Name       Furnished        1.0   \n",
       "1337         villa    thane  1.0          NaN  Semi-Furnished        1.0   \n",
       "1338         villa    thane  3.0          NaN       Furnished        3.0   \n",
       "1339         villa    thane  2.0         Name       Furnished        2.0   \n",
       "1340         villa    thane  1.0          NaN       Furnished        2.0   \n",
       "\n",
       "      Balconies  Facing Direction  Carpet Area  Floor Details Rental Price  \\\n",
       "1336        NaN               NaN        560.0            4.0       22,000   \n",
       "1337        1.0               NaN        485.0            NaN       13,800   \n",
       "1338        3.0  PropertySuperbly        980.0           17.0       55,000   \n",
       "1339        1.0               NaN        654.0            1.0       37,000   \n",
       "1340        NaN     Propertyprime        580.0            NaN       30,000   \n",
       "\n",
       "     Tenant Preferred  \n",
       "1336              NaN  \n",
       "1337              NaN  \n",
       "1338              NaN  \n",
       "1339              NaN  \n",
       "1340              NaN  "
      ]
     },
     "execution_count": 15,
     "metadata": {},
     "output_type": "execute_result"
    }
   ],
   "source": [
    "# last 5 rows\n",
    "df.tail(5)"
   ]
  },
  {
   "cell_type": "code",
   "execution_count": 17,
   "id": "3d34e285-ce99-4772-814f-d0292a314c3b",
   "metadata": {},
   "outputs": [
    {
     "data": {
      "text/plain": [
       "(1341, 12)"
      ]
     },
     "execution_count": 17,
     "metadata": {},
     "output_type": "execute_result"
    }
   ],
   "source": [
    "#size of the data number of rows and columns\n",
    "df.shape"
   ]
  },
  {
   "cell_type": "markdown",
   "id": "b3602463-07c4-4da0-a595-96c2d8a420bf",
   "metadata": {},
   "source": [
    "rows = 1341\n",
    "columns = 12"
   ]
  },
  {
   "cell_type": "code",
   "execution_count": 19,
   "id": "c48ab87c-bb56-449f-88cf-b044cdd189e5",
   "metadata": {},
   "outputs": [],
   "source": [
    "# correcting headers\n",
    "df.columns = df.columns.str.strip().str.replace(\" \",\"_\").str.lower()"
   ]
  },
  {
   "cell_type": "code",
   "execution_count": 21,
   "id": "786c6e0f-4b67-412d-a727-80dc229ae473",
   "metadata": {},
   "outputs": [
    {
     "data": {
      "text/plain": [
       "Index(['property_type', 'location', 'bhk', 'society_name', 'furnishing',\n",
       "       'bathrooms', 'balconies', 'facing_direction', 'carpet_area',\n",
       "       'floor_details', 'rental_price', 'tenant_preferred'],\n",
       "      dtype='object')"
      ]
     },
     "execution_count": 21,
     "metadata": {},
     "output_type": "execute_result"
    }
   ],
   "source": [
    "df.columns"
   ]
  },
  {
   "cell_type": "code",
   "execution_count": 23,
   "id": "6b352e99-f85c-418d-95d4-ba492214492e",
   "metadata": {},
   "outputs": [
    {
     "name": "stdout",
     "output_type": "stream",
     "text": [
      "<class 'pandas.core.frame.DataFrame'>\n",
      "RangeIndex: 1341 entries, 0 to 1340\n",
      "Data columns (total 12 columns):\n",
      " #   Column            Non-Null Count  Dtype  \n",
      "---  ------            --------------  -----  \n",
      " 0   property_type     1341 non-null   object \n",
      " 1   location          1341 non-null   object \n",
      " 2   bhk               1323 non-null   float64\n",
      " 3   society_name      155 non-null    object \n",
      " 4   furnishing        1334 non-null   object \n",
      " 5   bathrooms         1331 non-null   float64\n",
      " 6   balconies         956 non-null    float64\n",
      " 7   facing_direction  410 non-null    object \n",
      " 8   carpet_area       1278 non-null   float64\n",
      " 9   floor_details     599 non-null    float64\n",
      " 10  rental_price      1340 non-null   object \n",
      " 11  tenant_preferred  1320 non-null   object \n",
      "dtypes: float64(5), object(7)\n",
      "memory usage: 125.8+ KB\n"
     ]
    }
   ],
   "source": [
    "# information about data non null counts type of column\n",
    "df.info()"
   ]
  },
  {
   "cell_type": "code",
   "execution_count": 25,
   "id": "5fcf2819-b2c5-4c11-852e-1ad554701b4f",
   "metadata": {},
   "outputs": [
    {
     "data": {
      "text/plain": [
       "5"
      ]
     },
     "execution_count": 25,
     "metadata": {},
     "output_type": "execute_result"
    }
   ],
   "source": [
    "# checking any duplicates are there\n",
    "df.duplicated().sum()"
   ]
  },
  {
   "cell_type": "code",
   "execution_count": 11,
   "id": "0f813619-6156-47e8-ba57-5451ba38b87e",
   "metadata": {},
   "outputs": [],
   "source": [
    "#there are 5 duplicate rows"
   ]
  },
  {
   "cell_type": "code",
   "execution_count": 27,
   "id": "18886958-d82e-4a7f-8388-7190a103c65a",
   "metadata": {},
   "outputs": [],
   "source": [
    "df=df.drop_duplicates()"
   ]
  },
  {
   "cell_type": "code",
   "execution_count": 13,
   "id": "8231ff0f-553f-441d-9004-a6cabece2fae",
   "metadata": {},
   "outputs": [],
   "source": [
    "#all duplicates are removed"
   ]
  },
  {
   "cell_type": "markdown",
   "id": "e301068e-192f-4030-b270-5cb80f12905d",
   "metadata": {},
   "source": [
    "Checking any null values"
   ]
  },
  {
   "cell_type": "code",
   "execution_count": 29,
   "id": "2ef00d5b-891e-416e-acf1-1bc3e2c03708",
   "metadata": {},
   "outputs": [
    {
     "data": {
      "text/plain": [
       "property_type          0\n",
       "location               0\n",
       "bhk                   18\n",
       "society_name        1181\n",
       "furnishing             7\n",
       "bathrooms             10\n",
       "balconies            384\n",
       "facing_direction     927\n",
       "carpet_area           63\n",
       "floor_details        740\n",
       "rental_price           1\n",
       "tenant_preferred      21\n",
       "dtype: int64"
      ]
     },
     "execution_count": 29,
     "metadata": {},
     "output_type": "execute_result"
    }
   ],
   "source": [
    "df.isnull().sum()"
   ]
  },
  {
   "cell_type": "code",
   "execution_count": 31,
   "id": "7b81a7dd-f453-4b4b-aaf4-85456707cfff",
   "metadata": {},
   "outputs": [],
   "source": [
    "# ['society_name','facing_direction','floor_details'] excessive missing values\n",
    "#Columns like \"Society Name\", \"Facing Direction\", and \"Floor Details\" have too many missing values, so we drop them.\n",
    "\n",
    "df = df.drop(columns=['society_name','facing_direction','floor_details'])"
   ]
  },
  {
   "cell_type": "code",
   "execution_count": 33,
   "id": "f98fee93-ae58-453b-a4ff-1a3c735e63be",
   "metadata": {},
   "outputs": [
    {
     "data": {
      "text/plain": [
       "Index(['property_type', 'location', 'bhk', 'furnishing', 'bathrooms',\n",
       "       'balconies', 'carpet_area', 'rental_price', 'tenant_preferred'],\n",
       "      dtype='object')"
      ]
     },
     "execution_count": 33,
     "metadata": {},
     "output_type": "execute_result"
    }
   ],
   "source": [
    "df.columns"
   ]
  },
  {
   "cell_type": "code",
   "execution_count": 35,
   "id": "95c07948-3280-45e8-a5a1-ff868ccadae3",
   "metadata": {},
   "outputs": [
    {
     "data": {
      "text/plain": [
       "property_type         0\n",
       "location              0\n",
       "bhk                  18\n",
       "furnishing            7\n",
       "bathrooms            10\n",
       "balconies           384\n",
       "carpet_area          63\n",
       "rental_price          1\n",
       "tenant_preferred     21\n",
       "dtype: int64"
      ]
     },
     "execution_count": 35,
     "metadata": {},
     "output_type": "execute_result"
    }
   ],
   "source": [
    "df.isnull().sum()"
   ]
  },
  {
   "cell_type": "markdown",
   "id": "f0cf5b13-49fc-4413-b8dd-041119c986e2",
   "metadata": {},
   "source": [
    "# bhk column has nan values and change column type "
   ]
  },
  {
   "cell_type": "code",
   "execution_count": 37,
   "id": "0d5c3d1d-d1c0-4dcd-838a-086e438dfec2",
   "metadata": {},
   "outputs": [],
   "source": [
    "df['bhk']=df['bhk'].astype('str').str.get(0)"
   ]
  },
  {
   "cell_type": "code",
   "execution_count": 39,
   "id": "3c1e5b78-f340-4c84-97d0-5089a2d27eb2",
   "metadata": {},
   "outputs": [
    {
     "data": {
      "text/plain": [
       "array(['3', '2', '4', '1', '5', '6', '7', 'n', '8'], dtype=object)"
      ]
     },
     "execution_count": 39,
     "metadata": {},
     "output_type": "execute_result"
    }
   ],
   "source": [
    "df['bhk'].unique()"
   ]
  },
  {
   "cell_type": "code",
   "execution_count": 41,
   "id": "17e43e52-161f-4b99-9545-3393b4a95503",
   "metadata": {},
   "outputs": [],
   "source": [
    "# we fill the nann values with the most common bhk are 2 or 3\n",
    "# so we fill bhk by 2 or 3 value\n",
    "# df['bhk'].fillna(np.random.choice(['2','3']),inplace = True)\n",
    "df.fillna({'bhk':np.random.choice(['2','3'])},inplace = True)"
   ]
  },
  {
   "cell_type": "code",
   "execution_count": 43,
   "id": "aee67f2b-600f-4ead-becc-7c3d01a43f69",
   "metadata": {},
   "outputs": [],
   "source": [
    "# here 'n' is a invalid value we change it by new bhk value\n",
    "df['bhk']=df['bhk'].str.replace('n','2')"
   ]
  },
  {
   "cell_type": "code",
   "execution_count": 45,
   "id": "3d6d18ad-d509-490f-8354-d37cd41d532d",
   "metadata": {},
   "outputs": [
    {
     "data": {
      "text/plain": [
       "array(['3', '2', '4', '1', '5', '6', '7', '8'], dtype=object)"
      ]
     },
     "execution_count": 45,
     "metadata": {},
     "output_type": "execute_result"
    }
   ],
   "source": [
    "df['bhk'].unique()"
   ]
  },
  {
   "cell_type": "code",
   "execution_count": 47,
   "id": "c975f26e-2e53-47e1-b136-8c008c8bcb58",
   "metadata": {},
   "outputs": [],
   "source": [
    "df['bhk']=df['bhk'].astype('int')"
   ]
  },
  {
   "cell_type": "code",
   "execution_count": 49,
   "id": "fa22476e-1d83-4563-b769-587469fb5a7f",
   "metadata": {},
   "outputs": [
    {
     "data": {
      "text/plain": [
       "0"
      ]
     },
     "execution_count": 49,
     "metadata": {},
     "output_type": "execute_result"
    }
   ],
   "source": [
    "df['bhk'].isnull().sum()"
   ]
  },
  {
   "cell_type": "markdown",
   "id": "9e8457ef-abbe-44ff-a7e0-169a71b8bd48",
   "metadata": {},
   "source": [
    "# furnishing column has nan values"
   ]
  },
  {
   "cell_type": "code",
   "execution_count": 51,
   "id": "f5c3faf6-2bca-4e72-a372-28fad665e157",
   "metadata": {},
   "outputs": [
    {
     "data": {
      "text/plain": [
       "7"
      ]
     },
     "execution_count": 51,
     "metadata": {},
     "output_type": "execute_result"
    }
   ],
   "source": [
    "df['furnishing'].isnull().sum()"
   ]
  },
  {
   "cell_type": "code",
   "execution_count": 53,
   "id": "736b7a21-3790-4f61-a9c0-faaa04766be5",
   "metadata": {},
   "outputs": [],
   "source": [
    "#there are 7 null values"
   ]
  },
  {
   "cell_type": "code",
   "execution_count": 55,
   "id": "38bedd6c-eb3f-4d60-8bc3-647848fd125d",
   "metadata": {},
   "outputs": [
    {
     "data": {
      "text/plain": [
       "array(['Unfurnished', 'Semi-Furnished', 'Furnished', nan], dtype=object)"
      ]
     },
     "execution_count": 55,
     "metadata": {},
     "output_type": "execute_result"
    }
   ],
   "source": [
    "df['furnishing'].unique()"
   ]
  },
  {
   "cell_type": "code",
   "execution_count": 57,
   "id": "60de66ae-d3f4-4a42-8b2e-64f2af36187c",
   "metadata": {},
   "outputs": [],
   "source": [
    "# for nan values we use unfurnished value"
   ]
  },
  {
   "cell_type": "code",
   "execution_count": 61,
   "id": "e1d6e87f-c5b4-45a9-b63c-d2802831f705",
   "metadata": {},
   "outputs": [],
   "source": [
    "df['furnishing'].fillna('Unfurnished',inplace=True)"
   ]
  },
  {
   "cell_type": "code",
   "execution_count": 63,
   "id": "304f425b-0d35-4e02-8b40-1c94387af28e",
   "metadata": {},
   "outputs": [
    {
     "data": {
      "text/plain": [
       "0"
      ]
     },
     "execution_count": 63,
     "metadata": {},
     "output_type": "execute_result"
    }
   ],
   "source": [
    "df['furnishing'].isnull().sum()"
   ]
  },
  {
   "cell_type": "markdown",
   "id": "8cd2b59c-ea76-4567-9b6e-50d56defd2af",
   "metadata": {},
   "source": [
    "# bathrooms column has nan values and data type changing"
   ]
  },
  {
   "cell_type": "code",
   "execution_count": 65,
   "id": "4a7a9e32-1a41-4967-9c31-53f226d71bc3",
   "metadata": {},
   "outputs": [
    {
     "data": {
      "text/plain": [
       "10"
      ]
     },
     "execution_count": 65,
     "metadata": {},
     "output_type": "execute_result"
    }
   ],
   "source": [
    "df['bathrooms'].isnull().sum()"
   ]
  },
  {
   "cell_type": "code",
   "execution_count": 67,
   "id": "67e223a5-daff-4826-a40f-5b73dd15e6df",
   "metadata": {},
   "outputs": [
    {
     "data": {
      "text/plain": [
       "0    2.0\n",
       "Name: bathrooms, dtype: float64"
      ]
     },
     "execution_count": 67,
     "metadata": {},
     "output_type": "execute_result"
    }
   ],
   "source": [
    "df['bathrooms'].mode()"
   ]
  },
  {
   "cell_type": "code",
   "execution_count": 69,
   "id": "006c5bc5-15e6-48a7-a976-4da80b430fc1",
   "metadata": {},
   "outputs": [
    {
     "name": "stderr",
     "output_type": "stream",
     "text": [
      "C:\\Users\\DELL\\AppData\\Local\\Temp\\ipykernel_9600\\2546157932.py:2: FutureWarning: A value is trying to be set on a copy of a DataFrame or Series through chained assignment using an inplace method.\n",
      "The behavior will change in pandas 3.0. This inplace method will never work because the intermediate object on which we are setting values always behaves as a copy.\n",
      "\n",
      "For example, when doing 'df[col].method(value, inplace=True)', try using 'df.method({col: value}, inplace=True)' or df[col] = df[col].method(value) instead, to perform the operation inplace on the original object.\n",
      "\n",
      "\n",
      "  df['bathrooms'].fillna(df['bathrooms'].mode()[0],inplace = True)\n"
     ]
    }
   ],
   "source": [
    "# minimum 2 bathroom has to be in house.\n",
    "df['bathrooms'].fillna(df['bathrooms'].mode()[0],inplace = True)"
   ]
  },
  {
   "cell_type": "code",
   "execution_count": 71,
   "id": "8960e4c6-c7b2-4f8b-b5f7-0ef0bdace34e",
   "metadata": {},
   "outputs": [],
   "source": [
    "df['bathrooms']=df['bathrooms'].astype('int')"
   ]
  },
  {
   "cell_type": "code",
   "execution_count": 73,
   "id": "86a3bdda-5afa-400b-a6f3-6b71b3ca235e",
   "metadata": {},
   "outputs": [
    {
     "data": {
      "text/plain": [
       "0"
      ]
     },
     "execution_count": 73,
     "metadata": {},
     "output_type": "execute_result"
    }
   ],
   "source": [
    "df['bathrooms'].isnull().sum()"
   ]
  },
  {
   "cell_type": "code",
   "execution_count": null,
   "id": "d0adc17d-0bef-42f1-aa18-90e23f4173b7",
   "metadata": {},
   "outputs": [],
   "source": []
  },
  {
   "cell_type": "markdown",
   "id": "b4114800-5d13-49cc-a28e-c1e0d0221365",
   "metadata": {},
   "source": [
    "# balconies column has nan values and handling irrelevant values like 2.000e4"
   ]
  },
  {
   "cell_type": "code",
   "execution_count": 75,
   "id": "ede26393-18ee-4085-898a-788afba577b3",
   "metadata": {},
   "outputs": [
    {
     "data": {
      "text/plain": [
       "384"
      ]
     },
     "execution_count": 75,
     "metadata": {},
     "output_type": "execute_result"
    }
   ],
   "source": [
    "df['balconies'].isnull().sum()"
   ]
  },
  {
   "cell_type": "code",
   "execution_count": 77,
   "id": "4db5f3a2-0012-4fd9-bc1d-c4b1cff0dd48",
   "metadata": {},
   "outputs": [],
   "source": [
    "df['balconies']=df['balconies'].astype('str').str.get(0)"
   ]
  },
  {
   "cell_type": "code",
   "execution_count": 79,
   "id": "7fa3ceff-7423-4ceb-80aa-cbd1afd810f6",
   "metadata": {},
   "outputs": [
    {
     "data": {
      "text/plain": [
       "array(['3', '1', 'n', '2', '4', '5', '6', '8', '9', '7'], dtype=object)"
      ]
     },
     "execution_count": 79,
     "metadata": {},
     "output_type": "execute_result"
    }
   ],
   "source": [
    "df['balconies'].unique()"
   ]
  },
  {
   "cell_type": "code",
   "execution_count": 81,
   "id": "58c4a0c5-7480-4ddb-b6a7-a5c91c48c774",
   "metadata": {},
   "outputs": [
    {
     "name": "stderr",
     "output_type": "stream",
     "text": [
      "C:\\Users\\DELL\\AppData\\Local\\Temp\\ipykernel_9600\\656677058.py:2: FutureWarning: A value is trying to be set on a copy of a DataFrame or Series through chained assignment using an inplace method.\n",
      "The behavior will change in pandas 3.0. This inplace method will never work because the intermediate object on which we are setting values always behaves as a copy.\n",
      "\n",
      "For example, when doing 'df[col].method(value, inplace=True)', try using 'df.method({col: value}, inplace=True)' or df[col] = df[col].method(value) instead, to perform the operation inplace on the original object.\n",
      "\n",
      "\n",
      "  df['balconies'].fillna(df['balconies'].mode()[0],inplace = True)\n"
     ]
    }
   ],
   "source": [
    "# every house has minimum 1 balconie \n",
    "df['balconies'].fillna(df['balconies'].mode()[0],inplace = True)"
   ]
  },
  {
   "cell_type": "code",
   "execution_count": 83,
   "id": "63c09706-e497-4685-b005-a109e83f3fdf",
   "metadata": {},
   "outputs": [
    {
     "data": {
      "text/plain": [
       "array(['3', '1', 'n', '2', '4', '5', '6', '8', '9', '7'], dtype=object)"
      ]
     },
     "execution_count": 83,
     "metadata": {},
     "output_type": "execute_result"
    }
   ],
   "source": [
    "df['balconies'].unique()"
   ]
  },
  {
   "cell_type": "code",
   "execution_count": 85,
   "id": "33a3f6e7-77e1-4067-97de-254c299e015b",
   "metadata": {},
   "outputs": [],
   "source": [
    "#here 'n' is a invalid value we replace with the 1\n",
    "df['balconies']=df['balconies'].str.replace('n','1')"
   ]
  },
  {
   "cell_type": "code",
   "execution_count": 87,
   "id": "25200b83-6879-4866-adea-326b3558cbc8",
   "metadata": {},
   "outputs": [],
   "source": [
    "df['balconies']=df['balconies'].astype('int')"
   ]
  },
  {
   "cell_type": "code",
   "execution_count": 89,
   "id": "fff5e50a-b9e0-4d94-a4bd-24494f6901cf",
   "metadata": {},
   "outputs": [
    {
     "data": {
      "text/plain": [
       "0"
      ]
     },
     "execution_count": 89,
     "metadata": {},
     "output_type": "execute_result"
    }
   ],
   "source": [
    "df['balconies'].isnull().sum()"
   ]
  },
  {
   "cell_type": "markdown",
   "id": "aa255716-0c9c-4c88-aa3e-dd6d0940d324",
   "metadata": {},
   "source": [
    "# carpet_area "
   ]
  },
  {
   "cell_type": "code",
   "execution_count": 91,
   "id": "4c89be52-7e00-4718-89f9-706e1bc78dda",
   "metadata": {},
   "outputs": [
    {
     "data": {
      "text/plain": [
       "63"
      ]
     },
     "execution_count": 91,
     "metadata": {},
     "output_type": "execute_result"
    }
   ],
   "source": [
    "df['carpet_area'].isnull().sum()"
   ]
  },
  {
   "cell_type": "code",
   "execution_count": 93,
   "id": "06af44b1-23e2-4428-89bb-61537b324ff6",
   "metadata": {},
   "outputs": [],
   "source": [
    "df.dropna(subset=['carpet_area'],how='any',axis=0,inplace=True)"
   ]
  },
  {
   "cell_type": "code",
   "execution_count": 95,
   "id": "f22bf8eb-ff88-4ef0-801f-138e57eeb672",
   "metadata": {},
   "outputs": [
    {
     "data": {
      "text/plain": [
       "0"
      ]
     },
     "execution_count": 95,
     "metadata": {},
     "output_type": "execute_result"
    }
   ],
   "source": [
    "df['carpet_area'].isnull().sum()"
   ]
  },
  {
   "cell_type": "markdown",
   "id": "e74c50bf-acf7-4c08-93a8-3b8bfa8c687e",
   "metadata": {},
   "source": [
    "# rental price removing null values and invalid data"
   ]
  },
  {
   "cell_type": "code",
   "execution_count": 97,
   "id": "e3470d23-c74a-456b-83ec-5325ca556ee0",
   "metadata": {},
   "outputs": [
    {
     "data": {
      "text/plain": [
       "0"
      ]
     },
     "execution_count": 97,
     "metadata": {},
     "output_type": "execute_result"
    }
   ],
   "source": [
    "df['rental_price'].isnull().sum()"
   ]
  },
  {
   "cell_type": "code",
   "execution_count": 99,
   "id": "208286a8-d540-4c29-8eb2-7b462524753d",
   "metadata": {},
   "outputs": [
    {
     "data": {
      "text/plain": [
       "array(['16,000', '27,500', '35,000', '15,000', '13,500', '8,500',\n",
       "       '54,000', '30,000', '33,000', '20,000', '18,000', '48,000',\n",
       "       '22,000', '14,000', '45,000', '32,000', '35,500', '15,500',\n",
       "       '41,000', '6,000', '14,500', '12,500', '12,000', '25,000', '5,000',\n",
       "       '28,000', '36,000', '80,000', '65,000', '13,000', '50,000',\n",
       "       '75,000', '90,000', '26,000', '60,000', '57,000', '31,000',\n",
       "       '70,000', '75', '62,000', '21,000', '10,000', '63,000', '6,500',\n",
       "       '40,000', '46,000', '1', '85,000', '9,900', '7,900', '8,000',\n",
       "       '27,000', '2', '3', '55,000', '78,000', '10,500', '16,500',\n",
       "       '17,000', '7,000', '68,000', '3,500', '7,500', '29,500', '7,300',\n",
       "       '9,500', '13,900', '42,000', '19,000', '53,000', '49,000',\n",
       "       '24,000', '84,000', '66,000', '11,500', '95,000', '43,000',\n",
       "       '11,000', '5,500', '38,000', '24,933', '7', '19,500', '81,000',\n",
       "       '9,000', '17,500', '28,600', '4,000', '7,200', '23,000', '18,500',\n",
       "       '8,685', '24,999', '24,500', '16,499', '37,000', '89,000', '3,000',\n",
       "       '5,856', '5', '3,300', '20,500', '60,533', '88,000', '32,817',\n",
       "       '72,000', '14', '4', '11', '8', '6', '39,000', '36,500', '18,999',\n",
       "       '4,800', '2,300', '15', '9', '37,500', '4,999', '52,000', '20,100',\n",
       "       '29,000', '64,000', '24,300', '23,500', '13,800', '41,500',\n",
       "       '47,000', '6,999', '4,500'], dtype=object)"
      ]
     },
     "execution_count": 99,
     "metadata": {},
     "output_type": "execute_result"
    }
   ],
   "source": [
    "df['rental_price'].unique()"
   ]
  },
  {
   "cell_type": "code",
   "execution_count": 101,
   "id": "ec63a713-e6ca-4fae-81fa-4884c6c2c1df",
   "metadata": {},
   "outputs": [],
   "source": [
    "invalid_values=['75','1','2','3','7','5','14', '4', '11', '8', '6','15', '9']\n",
    "df['rental_price'] = df['rental_price'].apply(lambda x: str(x) + '000' if str(x) in invalid_values else x)"
   ]
  },
  {
   "cell_type": "code",
   "execution_count": 103,
   "id": "e64cba82-ea2f-49a1-ac22-356a434f135e",
   "metadata": {},
   "outputs": [
    {
     "data": {
      "text/plain": [
       "array(['16,000', '27,500', '35,000', '15,000', '13,500', '8,500',\n",
       "       '54,000', '30,000', '33,000', '20,000', '18,000', '48,000',\n",
       "       '22,000', '14,000', '45,000', '32,000', '35,500', '15,500',\n",
       "       '41,000', '6,000', '14,500', '12,500', '12,000', '25,000', '5,000',\n",
       "       '28,000', '36,000', '80,000', '65,000', '13,000', '50,000',\n",
       "       '75,000', '90,000', '26,000', '60,000', '57,000', '31,000',\n",
       "       '70,000', '75000', '62,000', '21,000', '10,000', '63,000', '6,500',\n",
       "       '40,000', '46,000', '1000', '85,000', '9,900', '7,900', '8,000',\n",
       "       '27,000', '2000', '3000', '55,000', '78,000', '10,500', '16,500',\n",
       "       '17,000', '7,000', '68,000', '3,500', '7,500', '29,500', '7,300',\n",
       "       '9,500', '13,900', '42,000', '19,000', '53,000', '49,000',\n",
       "       '24,000', '84,000', '66,000', '11,500', '95,000', '43,000',\n",
       "       '11,000', '5,500', '38,000', '24,933', '7000', '19,500', '81,000',\n",
       "       '9,000', '17,500', '28,600', '4,000', '7,200', '23,000', '18,500',\n",
       "       '8,685', '24,999', '24,500', '16,499', '37,000', '89,000', '3,000',\n",
       "       '5,856', '5000', '3,300', '20,500', '60,533', '88,000', '32,817',\n",
       "       '72,000', '14000', '4000', '11000', '8000', '6000', '39,000',\n",
       "       '36,500', '18,999', '4,800', '2,300', '15000', '9000', '37,500',\n",
       "       '4,999', '52,000', '20,100', '29,000', '64,000', '24,300',\n",
       "       '23,500', '13,800', '41,500', '47,000', '6,999', '4,500'],\n",
       "      dtype=object)"
      ]
     },
     "execution_count": 103,
     "metadata": {},
     "output_type": "execute_result"
    }
   ],
   "source": [
    "df['rental_price'].unique()"
   ]
  },
  {
   "cell_type": "code",
   "execution_count": 105,
   "id": "4f3a4f24-cb10-464e-a8e6-459622307f57",
   "metadata": {},
   "outputs": [],
   "source": [
    "#removing the ',' by replace method\n",
    "df['rental_price']=df['rental_price'].str.replace(\",\",\"\")"
   ]
  },
  {
   "cell_type": "code",
   "execution_count": 107,
   "id": "2f31dcb7-7dd0-4f3d-aad8-c9d76108fa22",
   "metadata": {},
   "outputs": [],
   "source": [
    "df.dropna(subset=['rental_price'],how='any',axis=0,inplace=True)"
   ]
  },
  {
   "cell_type": "code",
   "execution_count": 109,
   "id": "c1ec44bc-bce4-4bb7-89f6-d238adcb74f2",
   "metadata": {},
   "outputs": [],
   "source": [
    "\n",
    "df['rental_price']=df['rental_price'].astype('int')"
   ]
  },
  {
   "cell_type": "markdown",
   "id": "fe918e0d-6f07-44ad-b891-6f303dfec05b",
   "metadata": {},
   "source": [
    "# tenant_preferred"
   ]
  },
  {
   "cell_type": "code",
   "execution_count": 111,
   "id": "fb1610eb-8b29-462b-a251-a9544a21a5df",
   "metadata": {},
   "outputs": [
    {
     "data": {
      "text/plain": [
       "21"
      ]
     },
     "execution_count": 111,
     "metadata": {},
     "output_type": "execute_result"
    }
   ],
   "source": [
    "df['tenant_preferred'].isnull().sum()"
   ]
  },
  {
   "cell_type": "code",
   "execution_count": 113,
   "id": "6161e904-0dc5-4080-9b22-e9800a7d9aa0",
   "metadata": {},
   "outputs": [
    {
     "data": {
      "text/plain": [
       "array(['Bachelors', 'Family', nan], dtype=object)"
      ]
     },
     "execution_count": 113,
     "metadata": {},
     "output_type": "execute_result"
    }
   ],
   "source": [
    "df['tenant_preferred'].unique()"
   ]
  },
  {
   "cell_type": "code",
   "execution_count": 115,
   "id": "64cf90e6-90b1-43d1-80dd-41158be42e6f",
   "metadata": {},
   "outputs": [
    {
     "name": "stderr",
     "output_type": "stream",
     "text": [
      "C:\\Users\\DELL\\AppData\\Local\\Temp\\ipykernel_9600\\201112491.py:6: FutureWarning: A value is trying to be set on a copy of a DataFrame or Series through chained assignment using an inplace method.\n",
      "The behavior will change in pandas 3.0. This inplace method will never work because the intermediate object on which we are setting values always behaves as a copy.\n",
      "\n",
      "For example, when doing 'df[col].method(value, inplace=True)', try using 'df.method({col: value}, inplace=True)' or df[col] = df[col].method(value) instead, to perform the operation inplace on the original object.\n",
      "\n",
      "\n",
      "  df['tenant_preferred'].fillna('bachelors/family',inplace=True)\n"
     ]
    }
   ],
   "source": [
    "# we study the source that and find that we have bachelors/family values also there.\n",
    "# some owner preferd only Bachelors \n",
    "# some owner prefered only family \n",
    "# some owner prefered both \n",
    "#so we fill the nan value with bachelors/family this value\n",
    "df['tenant_preferred'].fillna('bachelors/family',inplace=True)\n"
   ]
  },
  {
   "cell_type": "code",
   "execution_count": 66,
   "id": "05973ea8-db84-4a3d-bd45-fe3c3579943e",
   "metadata": {},
   "outputs": [
    {
     "data": {
      "text/plain": [
       "0"
      ]
     },
     "execution_count": 66,
     "metadata": {},
     "output_type": "execute_result"
    }
   ],
   "source": [
    "df['tenant_preferred'].isnull().sum()"
   ]
  },
  {
   "cell_type": "code",
   "execution_count": 117,
   "id": "bdfba3f3-f296-48b5-b560-4e6d8df0574f",
   "metadata": {},
   "outputs": [
    {
     "name": "stdout",
     "output_type": "stream",
     "text": [
      "<class 'pandas.core.frame.DataFrame'>\n",
      "Index: 1273 entries, 0 to 1340\n",
      "Data columns (total 9 columns):\n",
      " #   Column            Non-Null Count  Dtype  \n",
      "---  ------            --------------  -----  \n",
      " 0   property_type     1273 non-null   object \n",
      " 1   location          1273 non-null   object \n",
      " 2   bhk               1273 non-null   int32  \n",
      " 3   furnishing        1273 non-null   object \n",
      " 4   bathrooms         1273 non-null   int32  \n",
      " 5   balconies         1273 non-null   int32  \n",
      " 6   carpet_area       1273 non-null   float64\n",
      " 7   rental_price      1273 non-null   int32  \n",
      " 8   tenant_preferred  1273 non-null   object \n",
      "dtypes: float64(1), int32(4), object(4)\n",
      "memory usage: 79.6+ KB\n"
     ]
    }
   ],
   "source": [
    "# we check info\n",
    "df.info()"
   ]
  },
  {
   "cell_type": "markdown",
   "id": "4417405e-6046-44a6-a833-988b8d61d5e2",
   "metadata": {},
   "source": [
    "### Column Overview:\n",
    "- property_type (Categorical) – Type of property (flats, villas, independent houses).\n",
    "- location (Categorical) – City where the property is located.\n",
    "- bhk (Numerical, Discrete) – Number of bedrooms in the property.\n",
    "- furnishing (Categorical) – Furnishing status (Furnished, Semi-Furnished, Unfurnished).\n",
    "- bathrooms (Numerical, Discrete) – Number of bathrooms.\n",
    "- balconies (Numerical, Discrete) – Number of balconies.\n",
    "- carpet_area (Numerical, Continuous) – Carpet area in square feet.\n",
    "- rental_price (Numerical, Continuous) – Monthly rent in INR.\n",
    "- tenant_preferred (Categorical) – Preferred tenants (Bachelors, Family)."
   ]
  },
  {
   "cell_type": "code",
   "execution_count": 121,
   "id": "7020ed26-b4a3-4456-864a-a1cf95b3c063",
   "metadata": {},
   "outputs": [
    {
     "data": {
      "text/html": [
       "<div>\n",
       "<style scoped>\n",
       "    .dataframe tbody tr th:only-of-type {\n",
       "        vertical-align: middle;\n",
       "    }\n",
       "\n",
       "    .dataframe tbody tr th {\n",
       "        vertical-align: top;\n",
       "    }\n",
       "\n",
       "    .dataframe thead th {\n",
       "        text-align: right;\n",
       "    }\n",
       "</style>\n",
       "<table border=\"1\" class=\"dataframe\">\n",
       "  <thead>\n",
       "    <tr style=\"text-align: right;\">\n",
       "      <th></th>\n",
       "      <th>bhk</th>\n",
       "      <th>bathrooms</th>\n",
       "      <th>balconies</th>\n",
       "      <th>carpet_area</th>\n",
       "      <th>rental_price</th>\n",
       "    </tr>\n",
       "  </thead>\n",
       "  <tbody>\n",
       "    <tr>\n",
       "      <th>count</th>\n",
       "      <td>1273.000000</td>\n",
       "      <td>1273.000000</td>\n",
       "      <td>1273.00000</td>\n",
       "      <td>1273.000000</td>\n",
       "      <td>1273.000000</td>\n",
       "    </tr>\n",
       "    <tr>\n",
       "      <th>mean</th>\n",
       "      <td>2.524745</td>\n",
       "      <td>2.500393</td>\n",
       "      <td>1.62608</td>\n",
       "      <td>1526.362137</td>\n",
       "      <td>24274.249018</td>\n",
       "    </tr>\n",
       "    <tr>\n",
       "      <th>std</th>\n",
       "      <td>1.183439</td>\n",
       "      <td>1.318784</td>\n",
       "      <td>1.02255</td>\n",
       "      <td>1507.834624</td>\n",
       "      <td>20623.783812</td>\n",
       "    </tr>\n",
       "    <tr>\n",
       "      <th>min</th>\n",
       "      <td>1.000000</td>\n",
       "      <td>1.000000</td>\n",
       "      <td>1.00000</td>\n",
       "      <td>15.000000</td>\n",
       "      <td>1000.000000</td>\n",
       "    </tr>\n",
       "    <tr>\n",
       "      <th>25%</th>\n",
       "      <td>2.000000</td>\n",
       "      <td>2.000000</td>\n",
       "      <td>1.00000</td>\n",
       "      <td>688.000000</td>\n",
       "      <td>9500.000000</td>\n",
       "    </tr>\n",
       "    <tr>\n",
       "      <th>50%</th>\n",
       "      <td>2.000000</td>\n",
       "      <td>2.000000</td>\n",
       "      <td>1.00000</td>\n",
       "      <td>1100.000000</td>\n",
       "      <td>18000.000000</td>\n",
       "    </tr>\n",
       "    <tr>\n",
       "      <th>75%</th>\n",
       "      <td>3.000000</td>\n",
       "      <td>3.000000</td>\n",
       "      <td>2.00000</td>\n",
       "      <td>1800.000000</td>\n",
       "      <td>35000.000000</td>\n",
       "    </tr>\n",
       "    <tr>\n",
       "      <th>max</th>\n",
       "      <td>8.000000</td>\n",
       "      <td>10.000000</td>\n",
       "      <td>9.00000</td>\n",
       "      <td>15500.000000</td>\n",
       "      <td>95000.000000</td>\n",
       "    </tr>\n",
       "  </tbody>\n",
       "</table>\n",
       "</div>"
      ],
      "text/plain": [
       "               bhk    bathrooms   balconies   carpet_area  rental_price\n",
       "count  1273.000000  1273.000000  1273.00000   1273.000000   1273.000000\n",
       "mean      2.524745     2.500393     1.62608   1526.362137  24274.249018\n",
       "std       1.183439     1.318784     1.02255   1507.834624  20623.783812\n",
       "min       1.000000     1.000000     1.00000     15.000000   1000.000000\n",
       "25%       2.000000     2.000000     1.00000    688.000000   9500.000000\n",
       "50%       2.000000     2.000000     1.00000   1100.000000  18000.000000\n",
       "75%       3.000000     3.000000     2.00000   1800.000000  35000.000000\n",
       "max       8.000000    10.000000     9.00000  15500.000000  95000.000000"
      ]
     },
     "execution_count": 121,
     "metadata": {},
     "output_type": "execute_result"
    }
   ],
   "source": [
    "df.describe()"
   ]
  },
  {
   "cell_type": "code",
   "execution_count": 70,
   "id": "1a5c8866-91f7-4aba-92ee-6f73e251fd0e",
   "metadata": {},
   "outputs": [],
   "source": [
    "# here description of each column with thier count , mean, std, minimum value, 25%, 50%, 75%, max value"
   ]
  },
  {
   "cell_type": "markdown",
   "id": "3a5ea9ca-dfd3-48ee-9a50-79c85028efb2",
   "metadata": {},
   "source": [
    "# Outliers detection"
   ]
  },
  {
   "cell_type": "code",
   "execution_count": 72,
   "id": "3ca1f617-e744-42d6-8e74-9bde2edba1de",
   "metadata": {},
   "outputs": [],
   "source": [
    "# The dataset contains 1,273 entries with 9 columns. The key numerical columns for outlier detection are:\n",
    "# BHK (Number of Bedrooms)\n",
    "# Bathrooms\n",
    "# Balconies\n",
    "# Carpet Area (sqft)\n",
    "# Rental Price (INR)"
   ]
  },
  {
   "cell_type": "code",
   "execution_count": 123,
   "id": "c70eadf4-7d99-4a90-8cdc-9bf3474cfd9a",
   "metadata": {},
   "outputs": [
    {
     "data": {
      "image/png": "[encoded data removed]",
      "text/plain": [
       "<Figure size 1500x800 with 5 Axes>"
      ]
     },
     "metadata": {},
     "output_type": "display_data"
    }
   ],
   "source": [
    "numeric_columns = ['bhk','bathrooms','balconies','carpet_area','rental_price']\n",
    "\n",
    "plt.figure(figsize=(15,8))\n",
    "for i,col in enumerate(numeric_columns,1):\n",
    "    plt.subplot(2,3,i)\n",
    "    sns.boxplot(y=df[col])\n",
    "    plt.title(f'Boxplot for {col}')\n",
    "plt.show()"
   ]
  },
  {
   "cell_type": "markdown",
   "id": "f7fe31d3-4f00-42b2-9621-21157eb6a2d8",
   "metadata": {},
   "source": [
    "The boxplots reveal outliers in multiple columns:\n",
    "\n",
    "- BHK: Outliers beyond 4 BHK (up to 8 BHK).\n",
    "- Bathrooms: Some listings have more than 6 bathrooms, which might be unusual.\n",
    "- Balconies: Few listings have more than 3 balconies, with outliers reaching 9.\n",
    "- Carpet Area: Several extreme values above 3000 sqft.\n",
    "- Rental Price: A few properties have rental prices exceeding ₹80,000."
   ]
  },
  {
   "cell_type": "markdown",
   "id": "8ec0b8b5-f07f-4061-b11f-208b422675df",
   "metadata": {},
   "source": [
    "# Handling outlier using iQR technique"
   ]
  },
  {
   "cell_type": "code",
   "execution_count": 125,
   "id": "2b13bf0a-671a-44c0-9d35-ea2b983818c2",
   "metadata": {},
   "outputs": [],
   "source": [
    "def rem_outliers(df,column):\n",
    "    Q1 = df[column].quantile(0.25) #25th percentile\n",
    "    Q3 = df[column].quantile(0.75)  #75th percentile\n",
    "    IQR = Q3 - Q1 #IQR value\n",
    "    ll = Q1 - 1.5 * IQR # lower limit\n",
    "    up = Q3 + 1.5 * IQR #upper limit\n",
    "    return df[(df[column]>=ll) & (df[column]<=up)] #values less than lower limit and values greater than upper limit are outliers\n",
    "    \n",
    "numeric_columns = [\"bhk\", \"bathrooms\", \"balconies\", \"carpet_area\", \"rental_price\"] #numeric columns\n",
    "\n",
    "for col in numeric_columns:\n",
    "    df = rem_outliers(df,col) #calling outlier function"
   ]
  },
  {
   "cell_type": "code",
   "execution_count": 127,
   "id": "423457a9-6bab-486c-95b2-b09be9095abb",
   "metadata": {},
   "outputs": [
    {
     "data": {
      "text/plain": [
       "(967, 9)"
      ]
     },
     "execution_count": 127,
     "metadata": {},
     "output_type": "execute_result"
    }
   ],
   "source": [
    "df.shape"
   ]
  },
  {
   "cell_type": "markdown",
   "id": "0c07fda4-4d5e-4320-9c91-a9c05c608723",
   "metadata": {},
   "source": [
    "#### after handling outliers we have left 967 rows and 9 columns"
   ]
  },
  {
   "cell_type": "code",
   "execution_count": 129,
   "id": "b3c5addf-d141-4cf4-ae77-509b2256320e",
   "metadata": {},
   "outputs": [
    {
     "data": {
      "text/html": [
       "<div>\n",
       "<style scoped>\n",
       "    .dataframe tbody tr th:only-of-type {\n",
       "        vertical-align: middle;\n",
       "    }\n",
       "\n",
       "    .dataframe tbody tr th {\n",
       "        vertical-align: top;\n",
       "    }\n",
       "\n",
       "    .dataframe thead th {\n",
       "        text-align: right;\n",
       "    }\n",
       "</style>\n",
       "<table border=\"1\" class=\"dataframe\">\n",
       "  <thead>\n",
       "    <tr style=\"text-align: right;\">\n",
       "      <th></th>\n",
       "      <th>property_type</th>\n",
       "      <th>location</th>\n",
       "      <th>bhk</th>\n",
       "      <th>furnishing</th>\n",
       "      <th>bathrooms</th>\n",
       "      <th>balconies</th>\n",
       "      <th>carpet_area</th>\n",
       "      <th>rental_price</th>\n",
       "      <th>tenant_preferred</th>\n",
       "    </tr>\n",
       "  </thead>\n",
       "  <tbody>\n",
       "    <tr>\n",
       "      <th>0</th>\n",
       "      <td>flats</td>\n",
       "      <td>ahmedabad</td>\n",
       "      <td>3</td>\n",
       "      <td>Unfurnished</td>\n",
       "      <td>3</td>\n",
       "      <td>3</td>\n",
       "      <td>1000.0</td>\n",
       "      <td>16000</td>\n",
       "      <td>Bachelors</td>\n",
       "    </tr>\n",
       "    <tr>\n",
       "      <th>1</th>\n",
       "      <td>flats</td>\n",
       "      <td>ahmedabad</td>\n",
       "      <td>3</td>\n",
       "      <td>Unfurnished</td>\n",
       "      <td>3</td>\n",
       "      <td>1</td>\n",
       "      <td>1004.0</td>\n",
       "      <td>27500</td>\n",
       "      <td>Bachelors</td>\n",
       "    </tr>\n",
       "    <tr>\n",
       "      <th>3</th>\n",
       "      <td>flats</td>\n",
       "      <td>ahmedabad</td>\n",
       "      <td>3</td>\n",
       "      <td>Semi-Furnished</td>\n",
       "      <td>3</td>\n",
       "      <td>1</td>\n",
       "      <td>1500.0</td>\n",
       "      <td>35000</td>\n",
       "      <td>Bachelors</td>\n",
       "    </tr>\n",
       "    <tr>\n",
       "      <th>4</th>\n",
       "      <td>flats</td>\n",
       "      <td>ahmedabad</td>\n",
       "      <td>2</td>\n",
       "      <td>Furnished</td>\n",
       "      <td>2</td>\n",
       "      <td>1</td>\n",
       "      <td>1200.0</td>\n",
       "      <td>15000</td>\n",
       "      <td>Bachelors</td>\n",
       "    </tr>\n",
       "    <tr>\n",
       "      <th>5</th>\n",
       "      <td>flats</td>\n",
       "      <td>ahmedabad</td>\n",
       "      <td>2</td>\n",
       "      <td>Unfurnished</td>\n",
       "      <td>2</td>\n",
       "      <td>1</td>\n",
       "      <td>600.0</td>\n",
       "      <td>13500</td>\n",
       "      <td>Bachelors</td>\n",
       "    </tr>\n",
       "  </tbody>\n",
       "</table>\n",
       "</div>"
      ],
      "text/plain": [
       "  property_type   location  bhk      furnishing  bathrooms  balconies  \\\n",
       "0         flats  ahmedabad    3     Unfurnished          3          3   \n",
       "1         flats  ahmedabad    3     Unfurnished          3          1   \n",
       "3         flats  ahmedabad    3  Semi-Furnished          3          1   \n",
       "4         flats  ahmedabad    2       Furnished          2          1   \n",
       "5         flats  ahmedabad    2     Unfurnished          2          1   \n",
       "\n",
       "   carpet_area  rental_price tenant_preferred  \n",
       "0       1000.0         16000        Bachelors  \n",
       "1       1004.0         27500        Bachelors  \n",
       "3       1500.0         35000        Bachelors  \n",
       "4       1200.0         15000        Bachelors  \n",
       "5        600.0         13500        Bachelors  "
      ]
     },
     "execution_count": 129,
     "metadata": {},
     "output_type": "execute_result"
    }
   ],
   "source": [
    "df.head(5)"
   ]
  },
  {
   "cell_type": "code",
   "execution_count": 80,
   "id": "10420b89-c251-4cc6-991e-516f059b742d",
   "metadata": {},
   "outputs": [],
   "source": [
    "# here we see more flats area availabel for rent than house and villa\n",
    "# most of the people prefer flats for ease"
   ]
  },
  {
   "cell_type": "markdown",
   "id": "c0399e2a-1ae8-4b3b-a030-17528acc2b82",
   "metadata": {},
   "source": [
    "### univariate analysis"
   ]
  },
  {
   "cell_type": "code",
   "execution_count": 82,
   "id": "667f6188-8827-4df4-be3d-b7f23726b582",
   "metadata": {},
   "outputs": [],
   "source": [
    "# for univariate analysis we can use histogram, count plot,box plot\n",
    "# numeric column ->carpet_area, rental_price\n",
    "# categorical columns-> property_type, location, furnishing, tenant_prefered,bhk,balconies\n"
   ]
  },
  {
   "cell_type": "code",
   "execution_count": 131,
   "id": "f29c457c-4fd0-46ed-a0cb-9b79bfdc52e3",
   "metadata": {},
   "outputs": [
    {
     "data": {
      "image/png": "[encoded data removed]",
      "text/plain": [
       "<Figure size 1000x500 with 1 Axes>"
      ]
     },
     "metadata": {},
     "output_type": "display_data"
    }
   ],
   "source": [
    "# rental price\n",
    "plt.figure(figsize=(10,5))\n",
    "sns.histplot(df['rental_price'],kde=True,color='blue')\n",
    "plt.title(f'Rental Price Distribution')\n",
    "plt.savefig(\"rental_price.png\", dpi=300, bbox_inches=\"tight\")\n",
    "plt.show()"
   ]
  },
  {
   "cell_type": "markdown",
   "id": "1a3d2878-4fb8-4af6-a874-f1cc377ea386",
   "metadata": {},
   "source": [
    "### insight \n",
    "- most of the rental price range is between 10,000 to 20,000 mostly affordable for the tenants \n",
    "- there we say that most of the property listing for the rent having price range 10k to 20k"
   ]
  },
  {
   "cell_type": "code",
   "execution_count": 133,
   "id": "6127672f-9872-481d-be68-b672976c2766",
   "metadata": {},
   "outputs": [
    {
     "data": {
      "image/png": "[encoded data removed]",
      "text/plain": [
       "<Figure size 500x500 with 1 Axes>"
      ]
     },
     "metadata": {},
     "output_type": "display_data"
    }
   ],
   "source": [
    "# carpet area\n",
    "plt.figure(figsize=(5,5))\n",
    "sns.histplot(df['carpet_area'],kde=True,color='blue')\n",
    "plt.title(f'Carpet Area Distribution')\n",
    "plt.show()"
   ]
  },
  {
   "cell_type": "markdown",
   "id": "848fb486-e4b5-4165-82eb-fcc7e9dc4dbd",
   "metadata": {},
   "source": [
    "### insight\n",
    "- average room size is 500 to 1500 sqft"
   ]
  },
  {
   "cell_type": "code",
   "execution_count": 135,
   "id": "845e8f54-b4d4-4079-b855-965536a9e55c",
   "metadata": {},
   "outputs": [
    {
     "name": "stderr",
     "output_type": "stream",
     "text": [
      "C:\\Users\\DELL\\AppData\\Local\\Temp\\ipykernel_9600\\3088090272.py:4: FutureWarning: \n",
      "\n",
      "Passing `palette` without assigning `hue` is deprecated and will be removed in v0.14.0. Assign the `x` variable to `hue` and set `legend=False` for the same effect.\n",
      "\n",
      "  sns.countplot(x=df['property_type'],palette='muted')\n"
     ]
    },
    {
     "data": {
      "image/png": "[encoded data removed]",
      "text/plain": [
       "<Figure size 500x500 with 1 Axes>"
      ]
     },
     "metadata": {},
     "output_type": "display_data"
    }
   ],
   "source": [
    "#property type\n",
    "# we used count plot bcz property type has categorical values i.e , flats,houses and villa\n",
    "plt.figure(figsize=(5,5))\n",
    "sns.countplot(x=df['property_type'],palette='muted')\n",
    "plt.title(f'property type Distribution')\n",
    "plt.savefig('propertytype.png',dpi=300, bbox_inches=\"tight\")\n",
    "plt.show()"
   ]
  },
  {
   "cell_type": "markdown",
   "id": "e89162ae-e5f2-44a6-bdda-dd1516b7ba7b",
   "metadata": {},
   "source": [
    "### insight\n",
    "- flats are prefered more for rent"
   ]
  },
  {
   "cell_type": "code",
   "execution_count": 137,
   "id": "99d8d396-21e6-4e24-ab47-1ae940f80a59",
   "metadata": {},
   "outputs": [
    {
     "data": {
      "image/png": "[encoded data removed]",
      "text/plain": [
       "<Figure size 500x500 with 1 Axes>"
      ]
     },
     "metadata": {},
     "output_type": "display_data"
    }
   ],
   "source": [
    "# bhk\n",
    "plt.figure(figsize=(5,5))\n",
    "sns.countplot(data=df,x='bhk')\n",
    "plt.title(f'bhk Distribution')\n",
    "plt.show()"
   ]
  },
  {
   "cell_type": "markdown",
   "id": "a1d7b349-6ee3-44b6-8993-857c2d26eee0",
   "metadata": {},
   "source": [
    "### insight\n",
    "- most prefered room are 2 bhk\n",
    "- least prefered is 4 bhk "
   ]
  },
  {
   "cell_type": "code",
   "execution_count": 139,
   "id": "3fc3f9c2-02cb-4000-8550-37d5b6b93b82",
   "metadata": {},
   "outputs": [
    {
     "data": {
      "image/png": "[encoded data removed]",
      "text/plain": [
       "<Figure size 600x600 with 1 Axes>"
      ]
     },
     "metadata": {},
     "output_type": "display_data"
    }
   ],
   "source": [
    "plt.figure(figsize=(6, 6))\n",
    "df['furnishing'].value_counts().plot(kind='pie', autopct='%1.1f%%', colors=['skyblue', 'lightcoral', 'lightgreen'])\n",
    "plt.title('Furnishing Distribution')\n",
    "plt.savefig('furnishing.png',dpi=300,bbox_inches='tight')\n",
    "plt.show()"
   ]
  },
  {
   "cell_type": "markdown",
   "id": "691199b4-1144-4098-866d-70d31a0e2122",
   "metadata": {},
   "source": [
    "### insights:\n",
    "- most of the properties listed are semi-furnished"
   ]
  },
  {
   "cell_type": "code",
   "execution_count": 141,
   "id": "8ad91025-67f8-4c1e-ad22-a76eea0c3872",
   "metadata": {},
   "outputs": [
    {
     "data": {
      "image/png": "[encoded data removed]",
      "text/plain": [
       "<Figure size 500x500 with 1 Axes>"
      ]
     },
     "metadata": {},
     "output_type": "display_data"
    }
   ],
   "source": [
    "plt.figure(figsize=(5,5))\n",
    "sns.countplot(data=df,x='tenant_preferred')\n",
    "plt.title(f'Tenant Distribution')\n",
    "plt.show()"
   ]
  },
  {
   "cell_type": "markdown",
   "id": "3c8de204-7a91-4e10-b49e-09486607fd18",
   "metadata": {},
   "source": [
    "### insights:\n",
    "- here we can say that most of the owners gives thier property on rent to the bachelors, they preferred bachelors more"
   ]
  },
  {
   "cell_type": "code",
   "execution_count": 143,
   "id": "677624ca-25d2-47b2-b9c1-5f2139567490",
   "metadata": {},
   "outputs": [
    {
     "data": {
      "text/plain": [
       "location\n",
       "lucknow        82\n",
       "indore         79\n",
       "pune           78\n",
       "thane          78\n",
       "kolkata        77\n",
       "jaipur         73\n",
       "chennai        70\n",
       "ahmedabad      63\n",
       "noida          59\n",
       "mumbai         58\n",
       "navi-mumbai    57\n",
       "bangalore      53\n",
       "new-delhi      49\n",
       "hyderabad      48\n",
       "gurgaon        43\n",
       "Name: count, dtype: int64"
      ]
     },
     "execution_count": 143,
     "metadata": {},
     "output_type": "execute_result"
    }
   ],
   "source": [
    "df['location'].value_counts()"
   ]
  },
  {
   "cell_type": "code",
   "execution_count": 145,
   "id": "3338fbc7-57df-4b3b-b574-47506a5fa0e2",
   "metadata": {},
   "outputs": [
    {
     "data": {
      "image/png": "[encoded data removed]",
      "text/plain": [
       "<Figure size 1500x500 with 1 Axes>"
      ]
     },
     "metadata": {},
     "output_type": "display_data"
    }
   ],
   "source": [
    "plt.figure(figsize=(15,5))\n",
    "sns.countplot(data=df,x='location',palette=\"coolwarm\",hue='location',order = df['location'].value_counts().head(10).index)\n",
    "plt.title(f'location Distribution')\n",
    "plt.savefig('location.png',dpi=300,bbox_inches='tight')\n",
    "plt.show()"
   ]
  },
  {
   "cell_type": "markdown",
   "id": "1ebe1adc-a3c5-4957-9e17-c4295d0c8ac2",
   "metadata": {},
   "source": [
    "### insights:\n",
    "- these are the top 10 cities where more number of properties are located\n",
    "- lucknow has more number of properties on rent than other cities\n"
   ]
  },
  {
   "cell_type": "markdown",
   "id": "49a874bd-260b-4a9c-8847-dd1a23b54ff7",
   "metadata": {},
   "source": [
    "### bivariate analysis\n"
   ]
  },
  {
   "cell_type": "code",
   "execution_count": 147,
   "id": "57de789e-4606-4fa7-9798-171991bc8215",
   "metadata": {},
   "outputs": [
    {
     "name": "stderr",
     "output_type": "stream",
     "text": [
      "C:\\Users\\DELL\\AppData\\Local\\Temp\\ipykernel_9600\\1503376501.py:2: FutureWarning: \n",
      "\n",
      "Passing `palette` without assigning `hue` is deprecated and will be removed in v0.14.0. Assign the `x` variable to `hue` and set `legend=False` for the same effect.\n",
      "\n",
      "  sns.barplot(data=df, y='rental_price', x='location', palette='coolwarm',\n"
     ]
    },
    {
     "data": {
      "image/png": "[encoded data removed]",
      "text/plain": [
       "<Figure size 1300x400 with 1 Axes>"
      ]
     },
     "metadata": {},
     "output_type": "display_data"
    }
   ],
   "source": [
    "plt.figure(figsize=(13, 4))\n",
    "sns.barplot(data=df, y='rental_price', x='location', palette='coolwarm', \n",
    "            order=df.groupby('location')['rental_price'].mean().sort_values(ascending=False).index)\n",
    "plt.title('Mean Rental Price Across Different Locations')\n",
    "plt.xlabel('Rental Price')\n",
    "plt.ylabel('Location')\n",
    "plt.xticks(rotation=45)\n",
    "plt.savefig('rentalvslocation.png',dpi=300,bbox_inches='tight')\n",
    "plt.show()\n"
   ]
  },
  {
   "cell_type": "markdown",
   "id": "e1eb9ff6-6f69-420c-8de2-6fcccd62070d",
   "metadata": {},
   "source": [
    "### insights:\n",
    "- cities like bangalore, noida, mumbai have highest rents\n",
    "- location with the IT hubs we can say that affects the pricing (bangalore)\\\n",
    "- smaller cities or suburban have the more affordable rental prices"
   ]
  },
  {
   "cell_type": "code",
   "execution_count": 149,
   "id": "e898e7eb-7ef5-422c-a3d1-a2eb87873703",
   "metadata": {},
   "outputs": [
    {
     "name": "stderr",
     "output_type": "stream",
     "text": [
      "C:\\Users\\DELL\\AppData\\Local\\Temp\\ipykernel_9600\\1806223353.py:2: FutureWarning: \n",
      "\n",
      "Passing `palette` without assigning `hue` is deprecated and will be removed in v0.14.0. Assign the `y` variable to `hue` and set `legend=False` for the same effect.\n",
      "\n",
      "  sns.barplot(data=df, y='furnishing', x='rental_price', palette='coolwarm',\n"
     ]
    },
    {
     "data": {
      "image/png": "[encoded data removed]",
      "text/plain": [
       "<Figure size 1300x400 with 1 Axes>"
      ]
     },
     "metadata": {},
     "output_type": "display_data"
    }
   ],
   "source": [
    "plt.figure(figsize=(13, 4))\n",
    "sns.barplot(data=df, y='furnishing', x='rental_price', palette='coolwarm', \n",
    "            order=df.groupby('furnishing')['rental_price'].mean().sort_values(ascending=False).index)\n",
    "plt.title('Mean Rental Price furnished')\n",
    "plt.xlabel('Rental Price')\n",
    "plt.ylabel('furnished')\n",
    "plt.xticks(rotation=45)\n",
    "plt.savefig('furnishedvsprice.png',dpi=300,bbox_inches='tight')\n",
    "plt.show()\n"
   ]
  },
  {
   "cell_type": "code",
   "execution_count": 151,
   "id": "e137b357-109c-48e5-90a5-f08fc79c75d6",
   "metadata": {
    "scrolled": true
   },
   "outputs": [
    {
     "data": {
      "image/png": "[encoded data removed]",
      "text/plain": [
       "<Figure size 1000x600 with 1 Axes>"
      ]
     },
     "metadata": {},
     "output_type": "display_data"
    }
   ],
   "source": [
    "# rental price vs carpet area\n",
    "plt.figure(figsize=(10,6))\n",
    "sns.scatterplot(x=df['carpet_area'],y=df['rental_price'],marker=\"X\")\n",
    "plt.savefig('rentvscarpet.png',dpi=300,bbox_inches='tight')\n",
    "plt.show()"
   ]
  },
  {
   "cell_type": "markdown",
   "id": "38d920cc-403d-4755-bab2-c5219fcc1f69",
   "metadata": {},
   "source": [
    "### insights:\n",
    "- largest carpet area generally leads to higher rental prices.\n",
    "- most of the property have 500 to 1500 sqft and have rental price between 10k to 20k"
   ]
  },
  {
   "cell_type": "code",
   "execution_count": 153,
   "id": "5971aad8-2d17-469e-b115-0215f51e99c4",
   "metadata": {},
   "outputs": [
    {
     "name": "stderr",
     "output_type": "stream",
     "text": [
      "C:\\Users\\DELL\\AppData\\Local\\Temp\\ipykernel_9600\\21354240.py:2: FutureWarning: \n",
      "\n",
      "Passing `palette` without assigning `hue` is deprecated and will be removed in v0.14.0. Assign the `x` variable to `hue` and set `legend=False` for the same effect.\n",
      "\n",
      "  sns.barplot(x=df['bhk'], y=df['rental_price'], estimator=np.mean, palette=\"coolwarm\")\n"
     ]
    },
    {
     "data": {
      "image/png": "[encoded data removed]",
      "text/plain": [
       "<Figure size 1500x500 with 1 Axes>"
      ]
     },
     "metadata": {},
     "output_type": "display_data"
    }
   ],
   "source": [
    "plt.figure(figsize=(15,5))\n",
    "sns.barplot(x=df['bhk'], y=df['rental_price'], estimator=np.mean, palette=\"coolwarm\")\n",
    "plt.title(\"Average Rental Price by BHK\")\n",
    "plt.xlabel(\"BHK\")\n",
    "plt.ylabel(\"Mean Rental Price\")\n",
    "plt.savefig('bhkrental.png',dpi=300,bbox_inches='tight')\n",
    "plt.show()\n"
   ]
  },
  {
   "cell_type": "code",
   "execution_count": null,
   "id": "11d1efb0-e59c-4330-9e6a-16c964edcffe",
   "metadata": {},
   "outputs": [],
   "source": []
  },
  {
   "cell_type": "raw",
   "id": "5a166826-0ef6-48f7-a502-e6eefc7b7e51",
   "metadata": {},
   "source": []
  },
  {
   "cell_type": "markdown",
   "id": "c17cc405-1ca5-4138-a424-7898d9140fa9",
   "metadata": {},
   "source": [
    "### insights:\n",
    "- 1 bhk and 2 bhk properties have average rents, while 3 bhk and above show higher rental prices.\n",
    "- Larger bhks have higher rents. "
   ]
  },
  {
   "cell_type": "code",
   "execution_count": 155,
   "id": "12669492-8192-4eee-a997-0ae98eff7578",
   "metadata": {},
   "outputs": [
    {
     "data": {
      "text/plain": [
       "<Axes: xlabel='tenant_preferred', ylabel='rental_price'>"
      ]
     },
     "execution_count": 155,
     "metadata": {},
     "output_type": "execute_result"
    },
    {
     "data": {
      "image/png": "[encoded data removed]",
      "text/plain": [
       "<Figure size 1000x600 with 1 Axes>"
      ]
     },
     "metadata": {},
     "output_type": "display_data"
    }
   ],
   "source": [
    "plt.figure(figsize=(10,6))\n",
    "sns.boxplot(x=df['tenant_preferred'],y=df['rental_price'])"
   ]
  },
  {
   "cell_type": "markdown",
   "id": "23aaa542-b47e-4615-97a6-afea883077fb",
   "metadata": {},
   "source": [
    "### insights:\n",
    "- Families drive the premium rental market, while bachelors contribute to budget housing demand.\n",
    "- Landlords should set rental prices based on target tenants to optimize occupancy and income."
   ]
  },
  {
   "cell_type": "markdown",
   "id": "0838eada-7fb7-46fe-8e0c-b8004c74df87",
   "metadata": {},
   "source": [
    "### *Conclusion*  \n",
    "\n",
    "- *Rental prices vary by city*, with Mumbai, Delhi, and Bangalore being the highest.  \n",
    "- *2 BHK properties are most common*, with semi-furnished flats in high demand.    \n",
    "- *Families prefer society flats, while bachelors opt for smaller apartments.*  \n",
    "- *Carpet area impact rental prices significantly.*  \n",
    "- *Insights help tenants and investors make informed property decisions.*"
   ]
  },
  {
   "cell_type": "code",
   "execution_count": null,
   "id": "cc49d9d2-3774-4124-9009-d140a0951663",
   "metadata": {},
   "outputs": [],
   "source": []
  },
  {
   "cell_type": "code",
   "execution_count": null,
   "id": "2046a349-f70f-4aff-95d8-e9a7064df2f9",
   "metadata": {},
   "outputs": [],
   "source": []
  },
  {
   "cell_type": "code",
   "execution_count": null,
   "id": "595b56a6-7d10-4215-b548-80c659afa348",
   "metadata": {},
   "outputs": [],
   "source": []
  },
  {
   "cell_type": "code",
   "execution_count": null,
   "id": "5013b64b-813d-4cf0-b4ff-0055c48782ca",
   "metadata": {},
   "outputs": [],
   "source": []
  },
  {
   "cell_type": "code",
   "execution_count": null,
   "id": "d1055735-4d3d-47e4-a233-521fc77699a9",
   "metadata": {},
   "outputs": [],
   "source": []
  },
  {
   "cell_type": "code",
   "execution_count": null,
   "id": "a965aea9-0d64-4b94-8ec8-fe78471510c5",
   "metadata": {},
   "outputs": [],
   "source": []
  },
  {
   "cell_type": "code",
   "execution_count": null,
   "id": "712855fe-f253-448f-b645-c687e03b0e93",
   "metadata": {},
   "outputs": [],
   "source": []
  },
  {
   "cell_type": "code",
   "execution_count": null,
   "id": "6dac216a-1d5e-4876-917b-520a5cabb89e",
   "metadata": {},
   "outputs": [],
   "source": []
  },
  {
   "cell_type": "code",
   "execution_count": null,
   "id": "0825a893-a32d-46e0-acd2-306df449aad6",
   "metadata": {},
   "outputs": [],
   "source": []
  },
  {
   "cell_type": "code",
   "execution_count": null,
   "id": "848360b2-9487-4ad7-8d3e-d750b360bbec",
   "metadata": {},
   "outputs": [],
   "source": []
  },
  {
   "cell_type": "code",
   "execution_count": null,
   "id": "c667e2d6-0452-4bd5-9db8-8c52fd8c2c46",
   "metadata": {},
   "outputs": [],
   "source": []
  }
 ],
 "metadata": {
  "kernelspec": {
   "display_name": "Python 3 (ipykernel)",
   "language": "python",
   "name": "python3"
  },
  "language_info": {
   "codemirror_mode": {
    "name": "ipython",
    "version": 3
   },
   "file_extension": ".py",
   "mimetype": "text/x-python",
   "name": "python",
   "nbconvert_exporter": "python",
   "pygments_lexer": "ipython3",
   "version": "3.12.7"
  }
 },
 "nbformat": 4,
 "nbformat_minor": 5
}
